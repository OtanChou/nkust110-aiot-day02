{
 "cells": [
  {
   "cell_type": "code",
   "execution_count": 1,
   "id": "b94be81d",
   "metadata": {},
   "outputs": [
    {
     "name": "stdout",
     "output_type": "stream",
     "text": [
      "title: \n",
      "                                李家超：練習氣功已經超過25年 保健養生很好！                              , link: https://money.udn.com/money/story/5603/6437229?from=edn_newest_index\n",
      "title: \n",
      "                                因應東北亞市場需求 星宇航空首次招募日籍客艙組員                              , link: https://money.udn.com/money/story/5930/6437225?from=edn_newest_index\n",
      "title: \n",
      "                                漲不停！今年Q1這四都住宅價格指數年增11%                              , link: https://money.udn.com/money/story/5621/6437218?from=edn_newest_index\n",
      "title: \n",
      "                                櫃買中心加強防範謠言或不實訊息干擾市場                              , link: https://money.udn.com/money/story/11074/6437207?from=edn_newest_index\n"
     ]
    }
   ],
   "source": [
    "# -*- coding: utf-8 -*-\n",
    "import requests\n",
    "from bs4 import BeautifulSoup\n",
    "import re\n",
    "\n",
    "new_list = []\n",
    "url = 'https://money.udn.com/money/index'\n",
    "\n",
    "## 1.填寫headers\n",
    "headers = {'User-Agent':'Mozilla/5.0 (Windows NT 10.0; Win64; x64) AppleWebKit/537.36 (KHTML, like Gecko) Chrome/103.0.0.0 Safari/537.36'}\n",
    "\n",
    "response = requests.get(url, headers=headers)\n",
    "soup = BeautifulSoup(response.text, 'html.parser')\n",
    "#print(response.text)\n",
    "\n",
    "## 2.抓取即時區域所有新聞title以及新聞內容連結link，並將每篇新聞的連結link append到new_list內\n",
    "div_tag = soup.find_all('div',{'class':'story__list'})\n",
    "\n",
    "soup2 = BeautifulSoup(str(div_tag[0]), 'html.parser')\n",
    "a_tags = soup2.find_all('a')\n",
    "\n",
    "for i in a_tags:\n",
    "    print('title: {}, link: {}'.format(i.text, 'https://money.udn.com'+i['href']))\n",
    "    new_list.append('https://money.udn.com'+i['href'])"
   ]
  }
 ],
 "metadata": {
  "kernelspec": {
   "display_name": "Python 3 (ipykernel)",
   "language": "python",
   "name": "python3"
  },
  "language_info": {
   "codemirror_mode": {
    "name": "ipython",
    "version": 3
   },
   "file_extension": ".py",
   "mimetype": "text/x-python",
   "name": "python",
   "nbconvert_exporter": "python",
   "pygments_lexer": "ipython3",
   "version": "3.9.12"
  }
 },
 "nbformat": 4,
 "nbformat_minor": 5
}
